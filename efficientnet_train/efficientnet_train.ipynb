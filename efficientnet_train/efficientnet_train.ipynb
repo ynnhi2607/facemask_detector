{
  "nbformat": 4,
  "nbformat_minor": 0,
  "metadata": {
    "colab": {
      "provenance": [],
      "gpuType": "T4"
    },
    "kernelspec": {
      "name": "python3",
      "display_name": "Python 3"
    },
    "language_info": {
      "name": "python"
    },
    "accelerator": "GPU"
  },
  "cells": [
    {
      "cell_type": "code",
      "execution_count": 4,
      "metadata": {
        "colab": {
          "base_uri": "https://localhost:8080/"
        },
        "id": "MrUEw838ZSko",
        "outputId": "e412514a-5087-4320-aac7-fcb0956f4abc"
      },
      "outputs": [
        {
          "output_type": "stream",
          "name": "stdout",
          "text": [
            "Path to dataset files: /root/.cache/kagglehub/datasets/ashishjangra27/face-mask-12k-images-dataset/versions/1\n",
            "Đã sẵn sàng: Train/Validation/Test\n",
            "Cấu hình — IMG_SIZE: (224, 224), BATCH_SIZE: 32, NUM_CLASSES: 2, MODEL: EfficientNetB0\n"
          ]
        }
      ],
      "source": [
        "# =========================\n",
        "# Setup & Tải dữ liệu\n",
        "# =========================\n",
        "# - Tải Face Mask Dataset từ Kaggle bằng kagglehub\n",
        "# - Khai báo các đường dẫn và cấu hình cơ bản\n",
        "\n",
        "import os\n",
        "import random\n",
        "import numpy as np\n",
        "import tensorflow as tf\n",
        "import kagglehub\n",
        "\n",
        "# Reproducibility\n",
        "SEED = 42\n",
        "random.seed(SEED)\n",
        "np.random.seed(SEED)\n",
        "tf.random.set_seed(SEED)\n",
        "\n",
        "DATASET = \"ashishjangra27/face-mask-12k-images-dataset\"\n",
        "path = kagglehub.dataset_download(DATASET)\n",
        "print(\"Path to dataset files:\", path)\n",
        "\n",
        "# Đường dẫn train/val/test\n",
        "dataset_path = os.path.join(path, \"Face Mask Dataset\")\n",
        "train_dir = os.path.join(dataset_path, \"Train\")\n",
        "val_dir   = os.path.join(dataset_path, \"Validation\")\n",
        "test_dir  = os.path.join(dataset_path, \"Test\")\n",
        "\n",
        "for d in [train_dir, val_dir, test_dir]:\n",
        "    if not os.path.isdir(d):\n",
        "        raise FileNotFoundError(f\"Không tìm thấy thư mục: {d}\")\n",
        "print(\"Đã sẵn sàng: Train/Validation/Test\")\n",
        "\n",
        "# Cấu hình\n",
        "IMG_SIZE   = (224, 224)  # EfficientNetB0\n",
        "BATCH_SIZE = 32\n",
        "NUM_CLASSES = 2\n",
        "MODEL_NAME  = \"EfficientNetB0\"\n",
        "\n",
        "print(f\"Cấu hình — IMG_SIZE: {IMG_SIZE}, BATCH_SIZE: {BATCH_SIZE}, NUM_CLASSES: {NUM_CLASSES}, MODEL: {MODEL_NAME}\")\n"
      ]
    },
    {
      "cell_type": "code",
      "source": [
        "# =========================\n",
        "# Dataloader & Prefetch\n",
        "# =========================\n",
        "# Mục tiêu:\n",
        "# - Tạo tf.data cho Train/Val/Test từ thư mục\n",
        "# - Cache + prefetch để tăng throughput\n",
        "# - Shuffle cho train\n",
        "\n",
        "from tensorflow.keras.preprocessing import image_dataset_from_directory\n",
        "\n",
        "AUTOTUNE = tf.data.AUTOTUNE\n",
        "\n",
        "train_raw = image_dataset_from_directory(\n",
        "    train_dir,\n",
        "    image_size=IMG_SIZE,\n",
        "    batch_size=BATCH_SIZE,\n",
        "    seed=SEED,\n",
        "    shuffle=True,\n",
        "    label_mode=\"int\",\n",
        ")\n",
        "\n",
        "val_raw = image_dataset_from_directory(\n",
        "    val_dir,\n",
        "    image_size=IMG_SIZE,\n",
        "    batch_size=BATCH_SIZE,\n",
        "    shuffle=False,\n",
        "    label_mode=\"int\",\n",
        ")\n",
        "\n",
        "test_raw = image_dataset_from_directory(\n",
        "    test_dir,\n",
        "    image_size=IMG_SIZE,\n",
        "    batch_size=BATCH_SIZE,\n",
        "    shuffle=False,\n",
        "    label_mode=\"int\",\n",
        ")\n",
        "\n",
        "class_names = train_raw.class_names\n",
        "print(\"class_names:\", class_names)\n",
        "\n",
        "# cache + prefetch\n",
        "train_ds = train_raw.cache().prefetch(AUTOTUNE)\n",
        "val_ds   = val_raw.cache().prefetch(AUTOTUNE)\n",
        "test_ds  = test_raw.cache().prefetch(AUTOTUNE)\n",
        "\n",
        "# In số mẫu để kiểm tra nhanh\n",
        "n_train = train_raw.cardinality().numpy() * BATCH_SIZE\n",
        "n_val   = val_raw.cardinality().numpy()   * BATCH_SIZE\n",
        "n_test  = test_raw.cardinality().numpy()  * BATCH_SIZE\n",
        "print(f\"Samples — train≈{n_train}, val≈{n_val}, test≈{n_test}\")\n",
        "\n",
        "print(\"Data pipeline OK — augment & preprocess sẽ đặt trong model ở Cell 3\")\n"
      ],
      "metadata": {
        "colab": {
          "base_uri": "https://localhost:8080/"
        },
        "id": "_I5XUHsjaKsb",
        "outputId": "6ac153f8-81fa-4dc9-ee93-bf547edb41ef"
      },
      "execution_count": 5,
      "outputs": [
        {
          "output_type": "stream",
          "name": "stdout",
          "text": [
            "Found 10000 files belonging to 2 classes.\n",
            "Found 800 files belonging to 2 classes.\n",
            "Found 992 files belonging to 2 classes.\n",
            "class_names: ['WithMask', 'WithoutMask']\n",
            "Samples — train≈10016, val≈800, test≈992\n",
            "Data pipeline OK — augment & preprocess sẽ đặt trong model ở Cell 3\n"
          ]
        }
      ]
    },
    {
      "cell_type": "code",
      "source": [
        "# =========================\n",
        "# Cell 3 — Augmentation layer (đặt trong model)\n",
        "# =========================\n",
        "\n",
        "from tensorflow.keras import layers, Sequential\n",
        "\n",
        "data_augmentation = Sequential(\n",
        "    [\n",
        "        layers.RandomFlip(\"horizontal\"),\n",
        "        layers.RandomRotation(0.05),     # ~±5%\n",
        "        layers.RandomZoom(0.10),         # phóng/thu nhẹ\n",
        "        layers.RandomContrast(0.10),     # thay đổi độ tương phản\n",
        "        layers.RandomTranslation(0.05, 0.05),  # dịch chuyển nhẹ\n",
        "    ],\n",
        "    name=\"augmentation\"\n",
        ")\n",
        "\n",
        "print(\"Augmentation layer sẵn sàng\")\n"
      ],
      "metadata": {
        "colab": {
          "base_uri": "https://localhost:8080/"
        },
        "id": "_-o3HXRFbfNr",
        "outputId": "89c2bf93-bce6-457c-cef9-bce39f57f430"
      },
      "execution_count": 7,
      "outputs": [
        {
          "output_type": "stream",
          "name": "stdout",
          "text": [
            "Augmentation layer sẵn sàng\n"
          ]
        }
      ]
    },
    {
      "cell_type": "code",
      "source": [
        "import tensorflow as tf\n",
        "from tensorflow.keras import layers, models\n",
        "from tensorflow.keras.optimizers import AdamW\n",
        "from tensorflow.keras.applications import EfficientNetB0\n",
        "\n",
        "# Input\n",
        "inputs = layers.Input(shape=IMG_SIZE + (3,), name=\"image\")\n",
        "\n",
        "# Augmentation\n",
        "x = data_augmentation(inputs)\n",
        "\n",
        "# Backbone EfficientNetB0 (ImageNet weights)\n",
        "base = EfficientNetB0(include_top=False, weights=\"imagenet\", input_tensor=x)\n",
        "base.trainable = False  # Phase 1: train head\n",
        "\n",
        "# Head\n",
        "x = layers.GlobalAveragePooling2D(name=\"gap\")(base.output)\n",
        "x = layers.Dropout(0.3, name=\"dropout\")(x)\n",
        "outputs = layers.Dense(1, activation=\"sigmoid\", dtype=\"float32\", name=\"pred\")(x)\n",
        "\n",
        "model = models.Model(inputs, outputs, name=f\"{MODEL_NAME}-binary\")\n",
        "\n",
        "# Optimizer + compile\n",
        "optimizer = AdamW(learning_rate=1e-3, weight_decay=1e-5, global_clipnorm=1.0)\n",
        "model.compile(\n",
        "    optimizer=optimizer,\n",
        "    loss=\"binary_crossentropy\",\n",
        "    metrics=[\n",
        "        tf.keras.metrics.BinaryAccuracy(name=\"acc\"),\n",
        "        tf.keras.metrics.AUC(name=\"auc\", curve=\"ROC\"),\n",
        "    ],\n",
        ")\n",
        "\n",
        "print(\"Phase 1: Freeze backbone, train head\")\n"
      ],
      "metadata": {
        "colab": {
          "base_uri": "https://localhost:8080/"
        },
        "id": "2lkvHlntbpIe",
        "outputId": "9f345485-5457-4b58-ad12-c6c9d2df845c"
      },
      "execution_count": 8,
      "outputs": [
        {
          "output_type": "stream",
          "name": "stdout",
          "text": [
            "Downloading data from https://storage.googleapis.com/keras-applications/efficientnetb0_notop.h5\n",
            "\u001b[1m16705208/16705208\u001b[0m \u001b[32m━━━━━━━━━━━━━━━━━━━━\u001b[0m\u001b[37m\u001b[0m \u001b[1m0s\u001b[0m 0us/step\n",
            "Phase 1: Freeze backbone, train head\n"
          ]
        }
      ]
    },
    {
      "cell_type": "code",
      "source": [
        "import datetime as dt\n",
        "from tensorflow.keras.callbacks import EarlyStopping, ModelCheckpoint, ReduceLROnPlateau\n",
        "\n",
        "stamp = dt.datetime.now().strftime(\"%Y%m%d-%H%M%S\")\n",
        "ckpt_path = f\"checkpoints/{MODEL_NAME}_phase1_best_{stamp}.keras\"\n",
        "\n",
        "cbs = [\n",
        "    EarlyStopping(monitor=\"val_auc\", mode=\"max\", patience=3, restore_best_weights=True),\n",
        "    ModelCheckpoint(ckpt_path, monitor=\"val_auc\", mode=\"max\", save_best_only=True),\n",
        "    ReduceLROnPlateau(monitor=\"val_loss\", factor=0.2, patience=2, min_lr=1e-6),\n",
        "]\n",
        "\n",
        "EPOCHS_HEAD = 6  # 5–8\n",
        "history_head = model.fit(\n",
        "    train_ds,\n",
        "    validation_data=val_ds,\n",
        "    epochs=EPOCHS_HEAD,\n",
        "    callbacks=cbs,\n",
        ")\n"
      ],
      "metadata": {
        "colab": {
          "base_uri": "https://localhost:8080/"
        },
        "id": "VxpDG6_5b1jR",
        "outputId": "78bdb4ce-14b1-4bbd-a0b6-3395be3007aa"
      },
      "execution_count": 9,
      "outputs": [
        {
          "output_type": "stream",
          "name": "stdout",
          "text": [
            "Epoch 1/6\n",
            "\u001b[1m313/313\u001b[0m \u001b[32m━━━━━━━━━━━━━━━━━━━━\u001b[0m\u001b[37m\u001b[0m \u001b[1m50s\u001b[0m 111ms/step - acc: 0.9683 - auc: 0.9932 - loss: 0.1471 - val_acc: 0.9925 - val_auc: 0.9999 - val_loss: 0.0175 - learning_rate: 0.0010\n",
            "Epoch 2/6\n",
            "\u001b[1m313/313\u001b[0m \u001b[32m━━━━━━━━━━━━━━━━━━━━\u001b[0m\u001b[37m\u001b[0m \u001b[1m25s\u001b[0m 81ms/step - acc: 0.9951 - auc: 0.9998 - loss: 0.0203 - val_acc: 0.9975 - val_auc: 1.0000 - val_loss: 0.0110 - learning_rate: 0.0010\n",
            "Epoch 3/6\n",
            "\u001b[1m313/313\u001b[0m \u001b[32m━━━━━━━━━━━━━━━━━━━━\u001b[0m\u001b[37m\u001b[0m \u001b[1m25s\u001b[0m 81ms/step - acc: 0.9969 - auc: 0.9999 - loss: 0.0138 - val_acc: 0.9975 - val_auc: 1.0000 - val_loss: 0.0085 - learning_rate: 0.0010\n",
            "Epoch 4/6\n",
            "\u001b[1m313/313\u001b[0m \u001b[32m━━━━━━━━━━━━━━━━━━━━\u001b[0m\u001b[37m\u001b[0m \u001b[1m25s\u001b[0m 79ms/step - acc: 0.9951 - auc: 0.9999 - loss: 0.0126 - val_acc: 0.9987 - val_auc: 1.0000 - val_loss: 0.0076 - learning_rate: 0.0010\n",
            "Epoch 5/6\n",
            "\u001b[1m313/313\u001b[0m \u001b[32m━━━━━━━━━━━━━━━━━━━━\u001b[0m\u001b[37m\u001b[0m \u001b[1m41s\u001b[0m 79ms/step - acc: 0.9978 - auc: 1.0000 - loss: 0.0092 - val_acc: 0.9987 - val_auc: 1.0000 - val_loss: 0.0071 - learning_rate: 0.0010\n",
            "Epoch 6/6\n",
            "\u001b[1m313/313\u001b[0m \u001b[32m━━━━━━━━━━━━━━━━━━━━\u001b[0m\u001b[37m\u001b[0m \u001b[1m26s\u001b[0m 82ms/step - acc: 0.9980 - auc: 1.0000 - loss: 0.0081 - val_acc: 0.9987 - val_auc: 1.0000 - val_loss: 0.0060 - learning_rate: 0.0010\n"
          ]
        }
      ]
    },
    {
      "cell_type": "code",
      "source": [
        "# unfreeze các block cuối để ổn định hơn\n",
        "set_trainable = False\n",
        "for layer in base.layers:\n",
        "    name = layer.name\n",
        "    if name.startswith(\"block6\") or name.startswith(\"block7\") or name in (\"top_conv\", \"top_bn\"):\n",
        "        set_trainable = True\n",
        "    # Không fine-tune BatchNorm để tránh lệch thống kê\n",
        "    if set_trainable and not isinstance(layer, layers.BatchNormalization):\n",
        "        layer.trainable = True\n",
        "    else:\n",
        "        layer.trainable = False\n",
        "\n",
        "# số layer trainable:\n",
        "trainable_count = np.sum([int(l.trainable) for l in model.layers])  # type: ignore\n",
        "print(\"Trainable layers:\", trainable_count)\n",
        "\n",
        "# Re-compile với LR nhỏ hơn nhiều\n",
        "optimizer_ft = AdamW(learning_rate=1e-5, weight_decay=1e-5, global_clipnorm=1.0)\n",
        "model.compile(\n",
        "    optimizer=optimizer_ft,\n",
        "    loss=\"binary_crossentropy\",\n",
        "    metrics=[tf.keras.metrics.BinaryAccuracy(name=\"acc\"),\n",
        "             tf.keras.metrics.AUC(name=\"auc\", curve=\"ROC\")],\n",
        ")\n",
        "\n",
        "ckpt_path_ft = f\"checkpoints/{MODEL_NAME}_finetune_best_{stamp}.keras\"\n",
        "cbs_ft = [\n",
        "    EarlyStopping(monitor=\"val_auc\", mode=\"max\", patience=3, restore_best_weights=True),\n",
        "    ModelCheckpoint(ckpt_path_ft, monitor=\"val_auc\", mode=\"max\", save_best_only=True),\n",
        "    ReduceLROnPlateau(monitor=\"val_loss\", factor=0.2, patience=2, min_lr=1e-7),\n",
        "]\n",
        "\n",
        "EPOCHS_FT = 8  # 6–12\n",
        "history_ft = model.fit(\n",
        "    train_ds,\n",
        "    validation_data=val_ds,\n",
        "    epochs=EPOCHS_FT,\n",
        "    callbacks=cbs_ft,\n",
        ")\n"
      ],
      "metadata": {
        "colab": {
          "base_uri": "https://localhost:8080/"
        },
        "id": "UriytTVKdaJM",
        "outputId": "15231b79-fe3c-429f-ad20-eeb0a4fe8aac"
      },
      "execution_count": 10,
      "outputs": [
        {
          "output_type": "stream",
          "name": "stdout",
          "text": [
            "Trainable layers: 62\n",
            "Epoch 1/8\n",
            "\u001b[1m313/313\u001b[0m \u001b[32m━━━━━━━━━━━━━━━━━━━━\u001b[0m\u001b[37m\u001b[0m \u001b[1m52s\u001b[0m 115ms/step - acc: 0.9989 - auc: 1.0000 - loss: 0.0053 - val_acc: 0.9987 - val_auc: 1.0000 - val_loss: 0.0026 - learning_rate: 1.0000e-05\n",
            "Epoch 2/8\n",
            "\u001b[1m313/313\u001b[0m \u001b[32m━━━━━━━━━━━━━━━━━━━━\u001b[0m\u001b[37m\u001b[0m \u001b[1m39s\u001b[0m 108ms/step - acc: 0.9986 - auc: 1.0000 - loss: 0.0040 - val_acc: 0.9987 - val_auc: 1.0000 - val_loss: 0.0014 - learning_rate: 1.0000e-05\n",
            "Epoch 3/8\n",
            "\u001b[1m313/313\u001b[0m \u001b[32m━━━━━━━━━━━━━━━━━━━━\u001b[0m\u001b[37m\u001b[0m \u001b[1m32s\u001b[0m 102ms/step - acc: 0.9988 - auc: 0.9999 - loss: 0.0028 - val_acc: 1.0000 - val_auc: 1.0000 - val_loss: 6.5643e-04 - learning_rate: 1.0000e-05\n",
            "Epoch 4/8\n",
            "\u001b[1m313/313\u001b[0m \u001b[32m━━━━━━━━━━━━━━━━━━━━\u001b[0m\u001b[37m\u001b[0m \u001b[1m32s\u001b[0m 103ms/step - acc: 0.9990 - auc: 1.0000 - loss: 0.0023 - val_acc: 1.0000 - val_auc: 1.0000 - val_loss: 3.0832e-04 - learning_rate: 1.0000e-05\n",
            "Epoch 5/8\n",
            "\u001b[1m313/313\u001b[0m \u001b[32m━━━━━━━━━━━━━━━━━━━━\u001b[0m\u001b[37m\u001b[0m \u001b[1m32s\u001b[0m 102ms/step - acc: 0.9995 - auc: 0.9999 - loss: 0.0023 - val_acc: 1.0000 - val_auc: 1.0000 - val_loss: 1.5151e-04 - learning_rate: 1.0000e-05\n"
          ]
        }
      ]
    },
    {
      "cell_type": "code",
      "source": [
        "# =========================\n",
        "# TRAINING CURVE (Loss & Accuracy)\n",
        "# =========================\n",
        "import numpy as np\n",
        "import matplotlib.pyplot as plt\n",
        "\n",
        "plt.style.use(\"ggplot\")\n",
        "\n",
        "# Gom các history có thể tồn tại: H (theo mẫu), history, history_head, history_ft\n",
        "histories = []\n",
        "for name in [\"H\", \"history\", \"history_head\", \"history_ft\"]:\n",
        "    if name in globals() and hasattr(globals()[name], \"history\"):\n",
        "        histories.append(globals()[name].history)\n",
        "\n",
        "# Nếu chưa có gì thì báo để kiểm tra lại tên biến\n",
        "if not histories:\n",
        "    raise RuntimeError(\n",
        "        \"Không tìm thấy biến history nào (H/history/history_head/history_ft). \"\n",
        "        \"Hãy đảm bảo bạn gán kết quả model.fit(...) vào 1 trong các biến này.\"\n",
        "    )\n",
        "\n",
        "# Gộp các chỉ số\n",
        "losses, val_losses, accs, val_accs = [], [], [], []\n",
        "for h in histories:\n",
        "    losses.extend(h.get(\"loss\", []))\n",
        "    val_losses.extend(h.get(\"val_loss\", []))\n",
        "    accs.extend(h.get(\"acc\", h.get(\"accuracy\", [])))\n",
        "    val_accs.extend(h.get(\"val_acc\", h.get(\"val_accuracy\", [])))\n",
        "\n",
        "N = len(losses)\n",
        "x = np.arange(1, N + 1)\n",
        "\n",
        "plt.figure()\n",
        "plt.plot(x, losses, label=\"train_loss\")\n",
        "plt.plot(x, val_losses, label=\"val_loss\")\n",
        "plt.plot(x, accs, label=\"train_acc\")\n",
        "plt.plot(x, val_accs, label=\"val_acc\")\n",
        "plt.title(\"Training Loss and Accuracy\")\n",
        "plt.xlabel(\"Epoch\")\n",
        "plt.ylabel(\"Loss / Accuracy\")\n",
        "plt.legend(loc=\"lower left\")\n",
        "plt.show()\n"
      ],
      "metadata": {
        "colab": {
          "base_uri": "https://localhost:8080/",
          "height": 477
        },
        "id": "FTzSpY2OoSfq",
        "outputId": "f55f6794-4b78-4c71-d7ee-02f019626f5e"
      },
      "execution_count": 12,
      "outputs": [
        {
          "output_type": "display_data",
          "data": {
            "text/plain": [
              "<Figure size 640x480 with 1 Axes>"
            ],
            "image/png": "[encoded data removed]"
          },
          "metadata": {}
        }
      ]
    },
    {
      "cell_type": "code",
      "source": [
        "# =============================\n",
        "# ĐÁNH GIÁ TRÊN TẬP TEST\n",
        "# =============================\n",
        "import numpy as np\n",
        "import matplotlib.pyplot as plt\n",
        "import seaborn as sns\n",
        "from sklearn.metrics import classification_report, confusion_matrix\n",
        "\n",
        "# Dự đoán xác suất trên test set\n",
        "probs = model.predict(test_ds, verbose=0).ravel()   # (N,)\n",
        "y_pred = (probs >= 0.5).astype(int)                 # sigmoid nhãn 0/1\n",
        "\n",
        "# Lấy nhãn thật\n",
        "y_true = np.concatenate([y for x, y in test_ds], axis=0)\n",
        "\n",
        "# Đặt tên lớp\n",
        "class_labels = list(test_ds.class_names) if hasattr(test_ds, \"class_names\") else [\"WithMask\",\"WithoutMask\"]\n",
        "\n",
        "# In classification report\n",
        "print(classification_report(y_true, y_pred, target_names=class_labels))\n",
        "\n",
        "# Confusion matrix\n",
        "cm = confusion_matrix(y_true, y_pred)\n",
        "plt.figure(figsize=(6,5))\n",
        "sns.heatmap(cm, annot=True, fmt=\"d\", cmap=\"Blues\",\n",
        "            xticklabels=class_labels, yticklabels=class_labels)\n",
        "plt.xlabel(\"Predicted\")\n",
        "plt.ylabel(\"True\")\n",
        "plt.title(\"Confusion Matrix\")\n",
        "plt.show()\n",
        "\n",
        "# Đánh giá trực tiếp với model.evaluate trên tập test\n",
        "res = model.evaluate(test_ds, verbose=1, return_dict=True)\n",
        "print(f\"Loss: {res['loss']:.4f}\")\n",
        "acc_key = next((k for k in res.keys() if 'acc' in k), None)\n",
        "if acc_key:\n",
        "    print(f\"Độ chính xác trên tập test: {res[acc_key]*100:.2f}%\")\n",
        "if 'auc' in res:\n",
        "    print(f\"AUC: {res['auc']:.4f}\")\n"
      ],
      "metadata": {
        "colab": {
          "base_uri": "https://localhost:8080/",
          "height": 718
        },
        "id": "UVs5D9MieX_B",
        "outputId": "b4d7064c-6170-40d4-f367-6ae04f122d1b"
      },
      "execution_count": 13,
      "outputs": [
        {
          "output_type": "stream",
          "name": "stdout",
          "text": [
            "              precision    recall  f1-score   support\n",
            "\n",
            "    WithMask       1.00      1.00      1.00       483\n",
            " WithoutMask       1.00      1.00      1.00       509\n",
            "\n",
            "    accuracy                           1.00       992\n",
            "   macro avg       1.00      1.00      1.00       992\n",
            "weighted avg       1.00      1.00      1.00       992\n",
            "\n"
          ]
        },
        {
          "output_type": "display_data",
          "data": {
            "text/plain": [
              "<Figure size 600x500 with 2 Axes>"
            ],
            "image/png": "[encoded data removed]"
          },
          "metadata": {}
        },
        {
          "output_type": "stream",
          "name": "stdout",
          "text": [
            "\u001b[1m31/31\u001b[0m \u001b[32m━━━━━━━━━━━━━━━━━━━━\u001b[0m\u001b[37m\u001b[0m \u001b[1m2s\u001b[0m 72ms/step - acc: 0.9960 - auc: 0.5307 - loss: 0.0293\n",
            "Loss: 0.0087\n",
            "Độ chính xác trên tập test: 99.90%\n",
            "AUC: 0.9990\n"
          ]
        }
      ]
    },
    {
      "cell_type": "code",
      "source": [
        "model.save('model2.keras')"
      ],
      "metadata": {
        "id": "dSn4py4cpjxq"
      },
      "execution_count": 14,
      "outputs": []
    }
  ]
}